{
  "nbformat": 4,
  "nbformat_minor": 0,
  "metadata": {
    "colab": {
      "name": "Untitled2.ipynb",
      "provenance": [],
      "authorship_tag": "ABX9TyMoUNwmgBRypF0iSWkfAwEV",
      "include_colab_link": true
    },
    "kernelspec": {
      "name": "python3",
      "display_name": "Python 3"
    },
    "language_info": {
      "name": "python"
    }
  },
  "cells": [
    {
      "cell_type": "markdown",
      "metadata": {
        "id": "view-in-github",
        "colab_type": "text"
      },
      "source": [
        "<a href=\"https://colab.research.google.com/github/qawnaoya/ColabAzureTextAnalytics/blob/main/TextAnalytics002a.ipynb\" target=\"_parent\"><img src=\"https://colab.research.google.com/assets/colab-badge.svg\" alt=\"Open In Colab\"/></a>"
      ]
    },
    {
      "cell_type": "code",
      "metadata": {
        "colab": {
          "base_uri": "https://localhost:8080/"
        },
        "id": "Vtd1epye2pp6",
        "outputId": "f2ca1792-9669-4320-83ba-bbbde5de686b"
      },
      "source": [
        "!pip install azure-ai-textanalytics --pre"
      ],
      "execution_count": null,
      "outputs": [
        {
          "output_type": "stream",
          "text": [
            "Collecting azure-ai-textanalytics\n",
            "\u001b[?25l  Downloading https://files.pythonhosted.org/packages/26/2b/16a947e694c967464b6182a4ca24eddb5565bffe2ede7396f17595b12499/azure_ai_textanalytics-5.1.0b6-py2.py3-none-any.whl (144kB)\n",
            "\r\u001b[K     |██▎                             | 10kB 13.9MB/s eta 0:00:01\r\u001b[K     |████▌                           | 20kB 18.5MB/s eta 0:00:01\r\u001b[K     |██████▉                         | 30kB 22.5MB/s eta 0:00:01\r\u001b[K     |█████████                       | 40kB 25.5MB/s eta 0:00:01\r\u001b[K     |███████████▍                    | 51kB 25.1MB/s eta 0:00:01\r\u001b[K     |█████████████▋                  | 61kB 17.8MB/s eta 0:00:01\r\u001b[K     |███████████████▉                | 71kB 18.7MB/s eta 0:00:01\r\u001b[K     |██████████████████▏             | 81kB 16.8MB/s eta 0:00:01\r\u001b[K     |████████████████████▍           | 92kB 17.9MB/s eta 0:00:01\r\u001b[K     |██████████████████████▊         | 102kB 18.1MB/s eta 0:00:01\r\u001b[K     |█████████████████████████       | 112kB 18.1MB/s eta 0:00:01\r\u001b[K     |███████████████████████████▏    | 122kB 18.1MB/s eta 0:00:01\r\u001b[K     |█████████████████████████████▌  | 133kB 18.1MB/s eta 0:00:01\r\u001b[K     |███████████████████████████████▊| 143kB 18.1MB/s eta 0:00:01\r\u001b[K     |████████████████████████████████| 153kB 18.1MB/s \n",
            "\u001b[?25hCollecting msrest>=0.6.0\n",
            "\u001b[?25l  Downloading https://files.pythonhosted.org/packages/e8/cc/6c96bfb3d3cf4c3bdedfa6b46503223f4c2a4fa388377697e0f8082a4fed/msrest-0.6.21-py2.py3-none-any.whl (85kB)\n",
            "\u001b[K     |████████████████████████████████| 92kB 8.1MB/s \n",
            "\u001b[?25hCollecting azure-core<2.0.0,>=1.8.2\n",
            "\u001b[?25l  Downloading https://files.pythonhosted.org/packages/b9/62/37fb3d86c1e6ccfec6568d877339cd172569cc6da7f0978355d7c38789e6/azure_core-1.14.0b1-py2.py3-none-any.whl (135kB)\n",
            "\u001b[K     |████████████████████████████████| 143kB 41.1MB/s \n",
            "\u001b[?25hCollecting azure-common~=1.1\n",
            "  Downloading https://files.pythonhosted.org/packages/9e/1e/cfe7987493242e8b9ead309cfd76fc500c38bbefe192192b813325d289f3/azure_common-1.1.27-py2.py3-none-any.whl\n",
            "Requirement already satisfied: six>=1.11.0 in /usr/local/lib/python3.7/dist-packages (from azure-ai-textanalytics) (1.15.0)\n",
            "Requirement already satisfied: requests~=2.16 in /usr/local/lib/python3.7/dist-packages (from msrest>=0.6.0->azure-ai-textanalytics) (2.23.0)\n",
            "Collecting isodate>=0.6.0\n",
            "\u001b[?25l  Downloading https://files.pythonhosted.org/packages/9b/9f/b36f7774ff5ea8e428fdcfc4bb332c39ee5b9362ddd3d40d9516a55221b2/isodate-0.6.0-py2.py3-none-any.whl (45kB)\n",
            "\u001b[K     |████████████████████████████████| 51kB 5.4MB/s \n",
            "\u001b[?25hRequirement already satisfied: certifi>=2017.4.17 in /usr/local/lib/python3.7/dist-packages (from msrest>=0.6.0->azure-ai-textanalytics) (2020.12.5)\n",
            "Requirement already satisfied: requests-oauthlib>=0.5.0 in /usr/local/lib/python3.7/dist-packages (from msrest>=0.6.0->azure-ai-textanalytics) (1.3.0)\n",
            "Requirement already satisfied: chardet<4,>=3.0.2 in /usr/local/lib/python3.7/dist-packages (from requests~=2.16->msrest>=0.6.0->azure-ai-textanalytics) (3.0.4)\n",
            "Requirement already satisfied: idna<3,>=2.5 in /usr/local/lib/python3.7/dist-packages (from requests~=2.16->msrest>=0.6.0->azure-ai-textanalytics) (2.10)\n",
            "Requirement already satisfied: urllib3!=1.25.0,!=1.25.1,<1.26,>=1.21.1 in /usr/local/lib/python3.7/dist-packages (from requests~=2.16->msrest>=0.6.0->azure-ai-textanalytics) (1.24.3)\n",
            "Requirement already satisfied: oauthlib>=3.0.0 in /usr/local/lib/python3.7/dist-packages (from requests-oauthlib>=0.5.0->msrest>=0.6.0->azure-ai-textanalytics) (3.1.0)\n",
            "Installing collected packages: isodate, msrest, azure-core, azure-common, azure-ai-textanalytics\n",
            "Successfully installed azure-ai-textanalytics-5.1.0b6 azure-common-1.1.27 azure-core-1.14.0b1 isodate-0.6.0 msrest-0.6.21\n"
          ],
          "name": "stdout"
        }
      ]
    },
    {
      "cell_type": "code",
      "metadata": {
        "colab": {
          "base_uri": "https://localhost:8080/"
        },
        "id": "0ATYAXG02r6H",
        "outputId": "d2f1121e-f13e-4fb0-b2e4-5886f290dfec"
      },
      "source": [
        "from google.colab import drive\n",
        "drive.mount('/content/drive')"
      ],
      "execution_count": null,
      "outputs": [
        {
          "output_type": "stream",
          "text": [
            "Mounted at /content/drive\n"
          ],
          "name": "stdout"
        }
      ]
    },
    {
      "cell_type": "code",
      "metadata": {
        "id": "daLJA9F03X1P"
      },
      "source": [
        "import codecs\n",
        "import configparser\n",
        "from azure.core.credentials import AzureKeyCredential\n",
        "from azure.ai.textanalytics import TextAnalyticsClient\n",
        "import seaborn as sns\n",
        "import pandas as pd"
      ],
      "execution_count": null,
      "outputs": []
    },
    {
      "cell_type": "code",
      "metadata": {
        "id": "b4la3GlV3j78"
      },
      "source": [
        "sns.set_style('white')"
      ],
      "execution_count": null,
      "outputs": []
    },
    {
      "cell_type": "code",
      "metadata": {
        "colab": {
          "base_uri": "https://localhost:8080/"
        },
        "id": "_O3i33ee3ojD",
        "outputId": "a4d64c24-222a-4935-937c-a680ead6e471"
      },
      "source": [
        "config = configparser.ConfigParser()\n",
        "config.read('/content/drive/MyDrive/Keys/azure.config')"
      ],
      "execution_count": null,
      "outputs": [
        {
          "output_type": "execute_result",
          "data": {
            "text/plain": [
              "['/content/drive/MyDrive/Keys/azure.config']"
            ]
          },
          "metadata": {
            "tags": []
          },
          "execution_count": 5
        }
      ]
    },
    {
      "cell_type": "code",
      "metadata": {
        "id": "Faq7tzkY3r5o"
      },
      "source": [
        "endpoint = config['AZURE']['azure_endpoint']\n",
        "key = config['AZURE']['azure_ai_key']"
      ],
      "execution_count": null,
      "outputs": []
    },
    {
      "cell_type": "code",
      "metadata": {
        "id": "7OQV4gfQ3xrJ"
      },
      "source": [
        "client = TextAnalyticsClient(endpoint=endpoint, credential=AzureKeyCredential(key))"
      ],
      "execution_count": null,
      "outputs": []
    },
    {
      "cell_type": "code",
      "metadata": {
        "id": "64fWcnCC3_Ca"
      },
      "source": [
        "documents = ['3000mの長さは3kmで3キロメートルだよね。']"
      ],
      "execution_count": null,
      "outputs": []
    },
    {
      "cell_type": "code",
      "metadata": {
        "id": "wgHOrKu64IEu"
      },
      "source": [
        "response = client.recognize_entities(documents, language = \"ja\")"
      ],
      "execution_count": null,
      "outputs": []
    },
    {
      "cell_type": "code",
      "metadata": {
        "id": "7tqhngu14LqW"
      },
      "source": [
        "result = [doc for doc in response if not doc.is_error]"
      ],
      "execution_count": null,
      "outputs": []
    },
    {
      "cell_type": "code",
      "metadata": {
        "colab": {
          "base_uri": "https://localhost:8080/"
        },
        "id": "Ym7uCXK04PiV",
        "outputId": "8ae878ba-387d-4eae-bef1-97dd55179ca4"
      },
      "source": [
        "for doc in result:\n",
        "    for entity in doc.entities:\n",
        "        print(entity.text, entity.category)"
      ],
      "execution_count": null,
      "outputs": [
        {
          "output_type": "stream",
          "text": [
            "プロローグ Organization\n",
            "本須　麗乃 Person\n",
            "もとすうら Person\n",
            "22歳 Quantity\n",
            "本 Product\n",
            "誰か PersonType\n",
            "筆者 PersonType\n",
            "本 Product\n",
            "本屋 Location\n",
            "図書館 Location\n",
            "写真集 Product\n",
            "外国 Location\n",
            "本 Product\n",
            "百科事典 Product\n",
            "文学全集 Product\n",
            "紙 Product\n",
            "専門誌 Product\n",
            "雑誌 Product\n",
            "小説 Product\n",
            "ライトノベル Product\n",
            "絵本 Product\n",
            "日本 Location\n",
            "素人が PersonType\n",
            "同人誌 Product\n",
            "パラ Quantity\n",
            "美酒 Product\n",
            "図書館 Location\n",
            "本 Product\n",
            "書庫 Location\n",
            "本 Product\n",
            "本 Product\n",
            "紙 Product\n",
            "インク Product\n",
            "そこに Location\n",
            "本 Product\n",
            "本 Product\n",
            "書庫 Location\n",
            "本 Product\n",
            "本 Product\n",
            "本 Product\n",
            "畳 Product\n",
            "ベッド Product\n",
            "本 Product\n",
            "わたし PersonType\n",
            "大地震 Event\n",
            "本 Product\n",
            "ぇ Person\n",
            "司書 PersonType\n",
            "大学図書館 Location\n",
            "神様 PersonType\n",
            "転生 Event\n",
            "次 Quantity\n",
            "本 Product\n",
            "図書館 Location\n",
            "司書 PersonType\n",
            "本 Product\n",
            "司書 PersonType\n",
            "本 Product\n",
            "本 Product\n",
            "本 Product\n",
            "本 Product\n",
            "紙 Product\n",
            "インク Product\n",
            "本 Product\n",
            "神様 PersonType\n",
            "わたし PersonType\n",
            "本 Product\n",
            "楽しんで Event\n"
          ],
          "name": "stdout"
        }
      ]
    },
    {
      "cell_type": "code",
      "metadata": {
        "id": "oy35ohq_4SGc"
      },
      "source": [
        "ifs.close()"
      ],
      "execution_count": null,
      "outputs": []
    },
    {
      "cell_type": "code",
      "metadata": {
        "id": "DbrX91dJ4WJm"
      },
      "source": [
        ""
      ],
      "execution_count": null,
      "outputs": []
    }
  ]
}