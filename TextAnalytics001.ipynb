{
  "nbformat": 4,
  "nbformat_minor": 0,
  "metadata": {
    "colab": {
      "name": "TextAnalytics001.ipynb",
      "provenance": [],
      "collapsed_sections": [],
      "authorship_tag": "ABX9TyMlrmF7iNq4sjy1WtzKto5b",
      "include_colab_link": true
    },
    "kernelspec": {
      "name": "python3",
      "display_name": "Python 3"
    },
    "language_info": {
      "name": "python"
    }
  },
  "cells": [
    {
      "cell_type": "markdown",
      "metadata": {
        "id": "view-in-github",
        "colab_type": "text"
      },
      "source": [
        "<a href=\"https://colab.research.google.com/github/qawnaoya/ColabAzureTextAnalytics/blob/main/TextAnalytics001.ipynb\" target=\"_parent\"><img src=\"https://colab.research.google.com/assets/colab-badge.svg\" alt=\"Open In Colab\"/></a>"
      ]
    },
    {
      "cell_type": "code",
      "metadata": {
        "colab": {
          "base_uri": "https://localhost:8080/"
        },
        "id": "r1LMN27PIn-3",
        "outputId": "e9cb14cd-4c7c-4de0-9d28-7cf587a4f190"
      },
      "source": [
        "!pip install azure-ai-textanalytics --pre"
      ],
      "execution_count": 1,
      "outputs": [
        {
          "output_type": "stream",
          "text": [
            "Requirement already satisfied: azure-ai-textanalytics in /usr/local/lib/python3.7/dist-packages (5.1.0b7)\n",
            "Requirement already satisfied: six>=1.11.0 in /usr/local/lib/python3.7/dist-packages (from azure-ai-textanalytics) (1.15.0)\n",
            "Requirement already satisfied: msrest>=0.6.0 in /usr/local/lib/python3.7/dist-packages (from azure-ai-textanalytics) (0.6.21)\n",
            "Requirement already satisfied: azure-core<2.0.0,>=1.14.0 in /usr/local/lib/python3.7/dist-packages (from azure-ai-textanalytics) (1.15.0b1)\n",
            "Requirement already satisfied: azure-common~=1.1 in /usr/local/lib/python3.7/dist-packages (from azure-ai-textanalytics) (1.1.27)\n",
            "Requirement already satisfied: requests-oauthlib>=0.5.0 in /usr/local/lib/python3.7/dist-packages (from msrest>=0.6.0->azure-ai-textanalytics) (1.3.0)\n",
            "Requirement already satisfied: isodate>=0.6.0 in /usr/local/lib/python3.7/dist-packages (from msrest>=0.6.0->azure-ai-textanalytics) (0.6.0)\n",
            "Requirement already satisfied: requests~=2.16 in /usr/local/lib/python3.7/dist-packages (from msrest>=0.6.0->azure-ai-textanalytics) (2.23.0)\n",
            "Requirement already satisfied: certifi>=2017.4.17 in /usr/local/lib/python3.7/dist-packages (from msrest>=0.6.0->azure-ai-textanalytics) (2020.12.5)\n",
            "Requirement already satisfied: oauthlib>=3.0.0 in /usr/local/lib/python3.7/dist-packages (from requests-oauthlib>=0.5.0->msrest>=0.6.0->azure-ai-textanalytics) (3.1.0)\n",
            "Requirement already satisfied: urllib3!=1.25.0,!=1.25.1,<1.26,>=1.21.1 in /usr/local/lib/python3.7/dist-packages (from requests~=2.16->msrest>=0.6.0->azure-ai-textanalytics) (1.24.3)\n",
            "Requirement already satisfied: idna<3,>=2.5 in /usr/local/lib/python3.7/dist-packages (from requests~=2.16->msrest>=0.6.0->azure-ai-textanalytics) (2.10)\n",
            "Requirement already satisfied: chardet<4,>=3.0.2 in /usr/local/lib/python3.7/dist-packages (from requests~=2.16->msrest>=0.6.0->azure-ai-textanalytics) (3.0.4)\n"
          ],
          "name": "stdout"
        }
      ]
    },
    {
      "cell_type": "code",
      "metadata": {
        "colab": {
          "base_uri": "https://localhost:8080/"
        },
        "id": "NvBTW_y-JBs6",
        "outputId": "eab55850-f59c-4a24-f220-7c769cf2426f"
      },
      "source": [
        "from google.colab import drive\n",
        "drive.mount('/content/drive')"
      ],
      "execution_count": 2,
      "outputs": [
        {
          "output_type": "stream",
          "text": [
            "Drive already mounted at /content/drive; to attempt to forcibly remount, call drive.mount(\"/content/drive\", force_remount=True).\n"
          ],
          "name": "stdout"
        }
      ]
    },
    {
      "cell_type": "code",
      "metadata": {
        "id": "-pOHcMfyJ6kh"
      },
      "source": [
        "import configparser\n",
        "from azure.core.credentials import AzureKeyCredential\n",
        "from azure.ai.textanalytics import TextAnalyticsClient\n",
        "import seaborn as sns\n",
        "import pandas as pd"
      ],
      "execution_count": 3,
      "outputs": []
    },
    {
      "cell_type": "code",
      "metadata": {
        "id": "drvJmFjcLTbV"
      },
      "source": [
        "sns.set_style('white')"
      ],
      "execution_count": 4,
      "outputs": []
    },
    {
      "cell_type": "code",
      "metadata": {
        "colab": {
          "base_uri": "https://localhost:8080/"
        },
        "id": "Q4EYGLwCKMCP",
        "outputId": "447e4262-8732-4b02-f19f-ac76120b9d07"
      },
      "source": [
        "config = configparser.ConfigParser()\n",
        "config.read('/content/drive/MyDrive/Keys/azure.config')"
      ],
      "execution_count": 5,
      "outputs": [
        {
          "output_type": "execute_result",
          "data": {
            "text/plain": [
              "['/content/drive/MyDrive/Keys/azure.config']"
            ]
          },
          "metadata": {
            "tags": []
          },
          "execution_count": 5
        }
      ]
    },
    {
      "cell_type": "code",
      "metadata": {
        "id": "nceyygisKV78"
      },
      "source": [
        "endpoint = config['AZURE']['azure_endpoint']\n",
        "key = config['AZURE']['azure_ai_key']"
      ],
      "execution_count": 6,
      "outputs": []
    },
    {
      "cell_type": "code",
      "metadata": {
        "id": "Y_iZeMWLKZc5"
      },
      "source": [
        "client = TextAnalyticsClient(endpoint=endpoint, credential=AzureKeyCredential(key))"
      ],
      "execution_count": 7,
      "outputs": []
    },
    {
      "cell_type": "code",
      "metadata": {
        "id": "kzvqpL4qKdq2"
      },
      "source": [
        "documents = [\n",
        "    {\n",
        "      \"id\": 1,\n",
        "      \"language\": \"ja\",\n",
        "      \"text\": \"iPhoneのマップやばいよ\"\n",
        "    }\n",
        "]"
      ],
      "execution_count": 8,
      "outputs": []
    },
    {
      "cell_type": "code",
      "metadata": {
        "id": "uJjnGIVNLB3C"
      },
      "source": [
        "result = client.analyze_sentiment(documents)\n",
        "docs = [doc for doc in result if not doc.is_error]"
      ],
      "execution_count": 9,
      "outputs": []
    },
    {
      "cell_type": "code",
      "metadata": {
        "id": "6Fup-vFJLfev"
      },
      "source": [
        "doc = docs[0]"
      ],
      "execution_count": 10,
      "outputs": []
    },
    {
      "cell_type": "code",
      "metadata": {
        "id": "5Zql-XUmLhyh"
      },
      "source": [
        "confidience_scores = {key:value for key, value in doc.confidence_scores.items()}"
      ],
      "execution_count": 11,
      "outputs": []
    },
    {
      "cell_type": "code",
      "metadata": {
        "id": "hdgmSSxZLj4a"
      },
      "source": [
        "sentiment = pd.Series(confidience_scores)"
      ],
      "execution_count": 12,
      "outputs": []
    },
    {
      "cell_type": "code",
      "metadata": {
        "colab": {
          "base_uri": "https://localhost:8080/"
        },
        "id": "XlPF95FSLmot",
        "outputId": "729c1cef-3ee4-4666-9800-8a09eb64a924"
      },
      "source": [
        "sentiment"
      ],
      "execution_count": 13,
      "outputs": [
        {
          "output_type": "execute_result",
          "data": {
            "text/plain": [
              "positive    0.19\n",
              "neutral     0.66\n",
              "negative    0.15\n",
              "dtype: float64"
            ]
          },
          "metadata": {
            "tags": []
          },
          "execution_count": 13
        }
      ]
    },
    {
      "cell_type": "code",
      "metadata": {
        "colab": {
          "base_uri": "https://localhost:8080/",
          "height": 317
        },
        "id": "sjn2xJGeLn2P",
        "outputId": "b5f03a9e-113a-4050-c2b1-86a0e1c2ca6f"
      },
      "source": [
        "sentiment.plot.bar()"
      ],
      "execution_count": 14,
      "outputs": [
        {
          "output_type": "execute_result",
          "data": {
            "text/plain": [
              "<matplotlib.axes._subplots.AxesSubplot at 0x7f4b7d2ba2d0>"
            ]
          },
          "metadata": {
            "tags": []
          },
          "execution_count": 14
        },
        {
          "output_type": "display_data",
          "data": {
            "image/png": "[encoded data removed]",
            "text/plain": [
              "<Figure size 432x288 with 1 Axes>"
            ]
          },
          "metadata": {
            "tags": []
          }
        }
      ]
    },
    {
      "cell_type": "code",
      "metadata": {
        "id": "_yi6la3bLq4w"
      },
      "source": [
        ""
      ],
      "execution_count": 14,
      "outputs": []
    }
  ]
}